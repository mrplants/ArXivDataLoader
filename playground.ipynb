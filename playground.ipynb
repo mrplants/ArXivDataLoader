{
 "cells": [
  {
   "cell_type": "code",
   "execution_count": 10,
   "metadata": {},
   "outputs": [
    {
     "name": "stderr",
     "output_type": "stream",
     "text": [
      " 21%|████████████████████████████████████████▍                                                                                                                                                           | 1326/6427 [00:03<00:12, 400.83it/s]/tmp/ipykernel_24227/2284682518.py:22: UserWarning: Failed to open /home/grinch/mounted_drives/arXiv/root/arXiv/src/._arXiv_src_0001_001.tar due to error: file could not be opened successfully:\n",
      "- method gz: ReadError('not a gzip file')\n",
      "- method bz2: ReadError('not a bzip2 file')\n",
      "- method xz: ReadError('not an lzma file')\n",
      "- method tar: ReadError('invalid header'). Assuming no papers in this tar.\n",
      "  warnings.warn(f\"Failed to open {tar_path} due to error: {e}. Assuming no papers in this tar.\")\n",
      " 25%|█████████████████████████████████████████████████▋                                                                                                                                                   | 1620/6427 [00:21<01:02, 76.49it/s]\n"
     ]
    },
    {
     "ename": "KeyboardInterrupt",
     "evalue": "",
     "output_type": "error",
     "traceback": [
      "\u001b[0;31m---------------------------------------------------------------------------\u001b[0m",
      "\u001b[0;31mIndexError\u001b[0m                                Traceback (most recent call last)",
      "File \u001b[0;32m~/mambaforge/lib/python3.10/multiprocessing/pool.py:856\u001b[0m, in \u001b[0;36mIMapIterator.next\u001b[0;34m(self, timeout)\u001b[0m\n\u001b[1;32m    855\u001b[0m \u001b[38;5;28;01mtry\u001b[39;00m:\n\u001b[0;32m--> 856\u001b[0m     item \u001b[38;5;241m=\u001b[39m \u001b[38;5;28;43mself\u001b[39;49m\u001b[38;5;241;43m.\u001b[39;49m\u001b[43m_items\u001b[49m\u001b[38;5;241;43m.\u001b[39;49m\u001b[43mpopleft\u001b[49m\u001b[43m(\u001b[49m\u001b[43m)\u001b[49m\n\u001b[1;32m    857\u001b[0m \u001b[38;5;28;01mexcept\u001b[39;00m \u001b[38;5;167;01mIndexError\u001b[39;00m:\n",
      "\u001b[0;31mIndexError\u001b[0m: pop from an empty deque",
      "\nDuring handling of the above exception, another exception occurred:\n",
      "\u001b[0;31mKeyboardInterrupt\u001b[0m                         Traceback (most recent call last)",
      "Cell \u001b[0;32mIn[10], line 47\u001b[0m\n\u001b[1;32m     44\u001b[0m     \u001b[38;5;28;01mreturn\u001b[39;00m total_papers\n\u001b[1;32m     46\u001b[0m root_dir \u001b[38;5;241m=\u001b[39m os\u001b[38;5;241m.\u001b[39mpath\u001b[38;5;241m.\u001b[39mexpanduser(\u001b[38;5;124m'\u001b[39m\u001b[38;5;124m~/mounted_drives/arXiv/root/arXiv/src/\u001b[39m\u001b[38;5;124m'\u001b[39m)\n\u001b[0;32m---> 47\u001b[0m \u001b[38;5;28mprint\u001b[39m(\u001b[38;5;124mf\u001b[39m\u001b[38;5;124m'\u001b[39m\u001b[38;5;124mTotal number of papers: \u001b[39m\u001b[38;5;132;01m{\u001b[39;00m\u001b[43mcount_papers\u001b[49m\u001b[43m(\u001b[49m\u001b[43mroot_dir\u001b[49m\u001b[43m)\u001b[49m\u001b[38;5;132;01m}\u001b[39;00m\u001b[38;5;124m'\u001b[39m)\n",
      "Cell \u001b[0;32mIn[10], line 39\u001b[0m, in \u001b[0;36mcount_papers\u001b[0;34m(root_dir)\u001b[0m\n\u001b[1;32m     37\u001b[0m mean, m2, count \u001b[38;5;241m=\u001b[39m \u001b[38;5;241m0\u001b[39m, \u001b[38;5;241m0\u001b[39m, \u001b[38;5;241m0\u001b[39m\n\u001b[1;32m     38\u001b[0m \u001b[38;5;28;01mwith\u001b[39;00m Pool(initializer\u001b[38;5;241m=\u001b[39minitializer, initargs\u001b[38;5;241m=\u001b[39m(tqdm,)) \u001b[38;5;28;01mas\u001b[39;00m pool:\n\u001b[0;32m---> 39\u001b[0m     results \u001b[38;5;241m=\u001b[39m \u001b[38;5;28;43mlist\u001b[39;49m\u001b[43m(\u001b[49m\u001b[43mtqdm\u001b[49m\u001b[43m(\u001b[49m\u001b[43mpool\u001b[49m\u001b[38;5;241;43m.\u001b[39;49m\u001b[43mimap\u001b[49m\u001b[43m(\u001b[49m\u001b[43mcount_papers_in_tar\u001b[49m\u001b[43m,\u001b[49m\u001b[43m \u001b[49m\u001b[43mtar_paths\u001b[49m\u001b[43m)\u001b[49m\u001b[43m,\u001b[49m\u001b[43m \u001b[49m\u001b[43mtotal\u001b[49m\u001b[38;5;241;43m=\u001b[39;49m\u001b[38;5;28;43mlen\u001b[39;49m\u001b[43m(\u001b[49m\u001b[43mtar_paths\u001b[49m\u001b[43m)\u001b[49m\u001b[43m)\u001b[49m\u001b[43m)\u001b[49m\n\u001b[1;32m     40\u001b[0m     \u001b[38;5;66;03m# for num_papers, tar_path in pool.imap_unordered(count_papers_in_tar, tar_paths):\u001b[39;00m\n\u001b[1;32m     41\u001b[0m     \u001b[38;5;66;03m#     mean, M2, sd, count = update_mean_and_sd(mean, m2, count, num_papers)\u001b[39;00m\n\u001b[1;32m     42\u001b[0m     \u001b[38;5;66;03m#     total_papers += num_papers\u001b[39;00m\n\u001b[1;32m     44\u001b[0m \u001b[38;5;28;01mreturn\u001b[39;00m total_papers\n",
      "File \u001b[0;32m~/mambaforge/lib/python3.10/site-packages/tqdm/std.py:1178\u001b[0m, in \u001b[0;36mtqdm.__iter__\u001b[0;34m(self)\u001b[0m\n\u001b[1;32m   1175\u001b[0m time \u001b[38;5;241m=\u001b[39m \u001b[38;5;28mself\u001b[39m\u001b[38;5;241m.\u001b[39m_time\n\u001b[1;32m   1177\u001b[0m \u001b[38;5;28;01mtry\u001b[39;00m:\n\u001b[0;32m-> 1178\u001b[0m     \u001b[38;5;28;01mfor\u001b[39;00m obj \u001b[38;5;129;01min\u001b[39;00m iterable:\n\u001b[1;32m   1179\u001b[0m         \u001b[38;5;28;01myield\u001b[39;00m obj\n\u001b[1;32m   1180\u001b[0m         \u001b[38;5;66;03m# Update and possibly print the progressbar.\u001b[39;00m\n\u001b[1;32m   1181\u001b[0m         \u001b[38;5;66;03m# Note: does not call self.update(1) for speed optimisation.\u001b[39;00m\n",
      "File \u001b[0;32m~/mambaforge/lib/python3.10/multiprocessing/pool.py:861\u001b[0m, in \u001b[0;36mIMapIterator.next\u001b[0;34m(self, timeout)\u001b[0m\n\u001b[1;32m    859\u001b[0m     \u001b[38;5;28mself\u001b[39m\u001b[38;5;241m.\u001b[39m_pool \u001b[38;5;241m=\u001b[39m \u001b[38;5;28;01mNone\u001b[39;00m\n\u001b[1;32m    860\u001b[0m     \u001b[38;5;28;01mraise\u001b[39;00m \u001b[38;5;167;01mStopIteration\u001b[39;00m \u001b[38;5;28;01mfrom\u001b[39;00m \u001b[38;5;28;01mNone\u001b[39;00m\n\u001b[0;32m--> 861\u001b[0m \u001b[38;5;28;43mself\u001b[39;49m\u001b[38;5;241;43m.\u001b[39;49m\u001b[43m_cond\u001b[49m\u001b[38;5;241;43m.\u001b[39;49m\u001b[43mwait\u001b[49m\u001b[43m(\u001b[49m\u001b[43mtimeout\u001b[49m\u001b[43m)\u001b[49m\n\u001b[1;32m    862\u001b[0m \u001b[38;5;28;01mtry\u001b[39;00m:\n\u001b[1;32m    863\u001b[0m     item \u001b[38;5;241m=\u001b[39m \u001b[38;5;28mself\u001b[39m\u001b[38;5;241m.\u001b[39m_items\u001b[38;5;241m.\u001b[39mpopleft()\n",
      "File \u001b[0;32m~/mambaforge/lib/python3.10/threading.py:320\u001b[0m, in \u001b[0;36mCondition.wait\u001b[0;34m(self, timeout)\u001b[0m\n\u001b[1;32m    318\u001b[0m \u001b[38;5;28;01mtry\u001b[39;00m:    \u001b[38;5;66;03m# restore state no matter what (e.g., KeyboardInterrupt)\u001b[39;00m\n\u001b[1;32m    319\u001b[0m     \u001b[38;5;28;01mif\u001b[39;00m timeout \u001b[38;5;129;01mis\u001b[39;00m \u001b[38;5;28;01mNone\u001b[39;00m:\n\u001b[0;32m--> 320\u001b[0m         \u001b[43mwaiter\u001b[49m\u001b[38;5;241;43m.\u001b[39;49m\u001b[43macquire\u001b[49m\u001b[43m(\u001b[49m\u001b[43m)\u001b[49m\n\u001b[1;32m    321\u001b[0m         gotit \u001b[38;5;241m=\u001b[39m \u001b[38;5;28;01mTrue\u001b[39;00m\n\u001b[1;32m    322\u001b[0m     \u001b[38;5;28;01melse\u001b[39;00m:\n",
      "\u001b[0;31mKeyboardInterrupt\u001b[0m: "
     ]
    }
   ],
   "source": [
    "from multiprocessing import Pool\n",
    "import os, tarfile, warnings\n",
    "from tqdm import tqdm\n",
    "\n",
    "def update_mean_and_sd(mean, M2, n, x):\n",
    "    n += 1\n",
    "    delta = x - mean\n",
    "    mean += delta / n\n",
    "    delta2 = x - mean\n",
    "    M2 += delta * delta2\n",
    "    sd = (M2 / (n - 1)) ** 0.5 if n > 1 else 0\n",
    "    return mean, M2, sd, n\n",
    "\n",
    "def count_papers_in_tar(tar_path):\n",
    "    num_papers = 0\n",
    "    try:\n",
    "        with tarfile.open(tar_path, 'r') as tar:\n",
    "            for member in tar.getmembers():\n",
    "                if member.name.endswith('.gz'):\n",
    "                    num_papers += 1\n",
    "    except Exception as e:\n",
    "        pass\n",
    "        # warnings.warn(f\"Failed to open {tar_path} due to error: {e}. Assuming no papers in this tar.\")\n",
    "    return num_papers, tar_path\n",
    "\n",
    "def initializer(tqdm):\n",
    "    import builtins\n",
    "    builtins.tqdm = tqdm\n",
    "\n",
    "def count_papers(root_dir):\n",
    "    tar_paths = []\n",
    "    for dirpath, dirnames, filenames in os.walk(root_dir):\n",
    "        for file in filenames:\n",
    "            if file.endswith('.tar'):\n",
    "                tar_paths.append(os.path.join(dirpath, file))\n",
    "\n",
    "    total_papers = 0\n",
    "    mean, m2, count = 0, 0, 0\n",
    "    with Pool(initializer=initializer, initargs=(tqdm,)) as pool:\n",
    "        results = list(tqdm(pool.imap(count_papers_in_tar, tar_paths), total=len(tar_paths)))\n",
    "        # for num_papers, tar_path in pool.imap_unordered(count_papers_in_tar, tar_paths):\n",
    "        #     mean, M2, sd, count = update_mean_and_sd(mean, m2, count, num_papers)\n",
    "        #     total_papers += num_papers\n",
    "\n",
    "    return total_papers\n",
    "\n",
    "root_dir = os.path.expanduser('~/mounted_drives/arXiv/root/arXiv/src/')\n",
    "print(f'Total number of papers: {count_papers(root_dir)}')"
   ]
  },
  {
   "cell_type": "code",
   "execution_count": 8,
   "metadata": {},
   "outputs": [
    {
     "name": "stdout",
     "output_type": "stream",
     "text": [
      "All means and standard deviations match.\n"
     ]
    }
   ],
   "source": [
    "import numpy as np\n",
    "\n",
    "def update_mean_and_sd(mean, M2, n, x):\n",
    "    n += 1\n",
    "    delta = x - mean\n",
    "    mean += delta / n\n",
    "    delta2 = x - mean\n",
    "    M2 += delta * delta2\n",
    "    sd = (M2 / (n - 1)) ** 0.5 if n > 1 else 0\n",
    "    return mean, M2, sd, n\n",
    "\n",
    "# Generate a random dataset\n",
    "np.random.seed(0)\n",
    "data = np.random.randn(1000)\n",
    "\n",
    "# Initialize variables\n",
    "mean, M2, n = 0, 0, 0\n",
    "\n",
    "# Step through the data\n",
    "for i, x in enumerate(data, 1):\n",
    "    mean, M2, sd, n = update_mean_and_sd(mean, M2, n, x)\n",
    "\n",
    "    # Validate results against numpy functions\n",
    "    np_mean = np.mean(data[:i])\n",
    "    if i > 1: \n",
    "        np_sd = np.std(data[:i], ddof=1)\n",
    "        assert np.isclose(sd, np_sd), f'SDs do not match at i={i}: {sd} vs {np_sd}'\n",
    "\n",
    "    assert np.isclose(mean, np_mean), f'Means do not match at i={i}: {mean} vs {np_mean}'\n",
    "\n",
    "print('All means and standard deviations match.')\n"
   ]
  },
  {
   "cell_type": "code",
   "execution_count": null,
   "metadata": {},
   "outputs": [],
   "source": []
  }
 ],
 "metadata": {
  "kernelspec": {
   "display_name": "Python [conda env:root] *",
   "language": "python",
   "name": "conda-root-py"
  },
  "language_info": {
   "codemirror_mode": {
    "name": "ipython",
    "version": 3
   },
   "file_extension": ".py",
   "mimetype": "text/x-python",
   "name": "python",
   "nbconvert_exporter": "python",
   "pygments_lexer": "ipython3",
   "version": "3.10.10"
  }
 },
 "nbformat": 4,
 "nbformat_minor": 4
}
